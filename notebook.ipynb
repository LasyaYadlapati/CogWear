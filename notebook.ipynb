{
 "cells": [
  {
   "cell_type": "code",
   "execution_count": 23,
   "metadata": {},
   "outputs": [],
   "source": [
    "import pandas as pd\n",
    "import plotly.express as px\n",
    "import numpy as np\n",
    "import matplotlib.pyplot as plt"
   ]
  },
  {
   "cell_type": "code",
   "execution_count": 24,
   "metadata": {},
   "outputs": [],
   "source": [
    "pilot_baseline_temp = pd.DataFrame()\n",
    "for i in range(0, 11):\n",
    "    df = pd.read_csv(f'data/pilot/{i}/baseline/empatica_temp.csv')\n",
    "    df['time'] = pd.to_datetime(df['time'], unit='s')\n",
    "    df.insert(0, 'subject', i)\n",
    "    df['time_elapsed'] = (df['time'] - df['time'].iloc[0]).dt.total_seconds()\n",
    "    df['time'] = df['time'].dt.time\n",
    "    pilot_baseline_temp = pd.concat([pilot_baseline_temp, df])\n",
    "pilot_baseline_temp = pilot_baseline_temp.reset_index(drop=True)"
   ]
  },
  {
   "cell_type": "code",
   "execution_count": 25,
   "metadata": {},
   "outputs": [],
   "source": [
    "pilot_cog_temp = pd.DataFrame()\n",
    "for i in range(0, 11):\n",
    "    df = pd.read_csv(f'data/pilot/{i}/cognitive_load/empatica_temp.csv')\n",
    "    df['time'] = pd.to_datetime(df['time'], unit='s')\n",
    "    df.insert(0, 'subject', i)\n",
    "    df['time_elapsed'] = (df['time'] - df['time'].iloc[0]).dt.total_seconds()\n",
    "    df['time'] = df['time'].dt.time\n",
    "    pilot_cog_temp = pd.concat([pilot_cog_temp, df])\n",
    "pilot_cog_temp = pilot_cog_temp.reset_index(drop=True)"
   ]
  },
  {
   "cell_type": "code",
   "execution_count": 28,
   "metadata": {},
   "outputs": [],
   "source": [
    "pilot_baseline_eda = pd.DataFrame()\n",
    "for i in range(0, 11):\n",
    "    df = pd.read_csv(f'data/pilot/{i}/baseline/empatica_eda.csv')\n",
    "    df['time'] = pd.to_datetime(df['time'], unit='s')\n",
    "    df.insert(0, 'subject', i)\n",
    "    df['time_elapsed'] = (df['time'] - df['time'].iloc[0]).dt.total_seconds()\n",
    "    df['time'] = df['time'].dt.time\n",
    "    pilot_baseline_eda = pd.concat([pilot_baseline_eda, df])\n",
    "pilot_baseline_eda = pilot_baseline_eda.reset_index(drop=True)"
   ]
  },
  {
   "cell_type": "code",
   "execution_count": 29,
   "metadata": {},
   "outputs": [],
   "source": [
    "pilot_cog_eda = pd.DataFrame()\n",
    "for i in range(0, 11):\n",
    "    df = pd.read_csv(f'data/pilot/{i}/cognitive_load/empatica_eda.csv')\n",
    "    df['time'] = pd.to_datetime(df['time'], unit='s')\n",
    "    df.insert(0, 'subject', i)\n",
    "    df['time_elapsed'] = (df['time'] - df['time'].iloc[0]).dt.total_seconds()\n",
    "    df['time'] = df['time'].dt.time\n",
    "    pilot_cog_eda = pd.concat([pilot_cog_eda, df])\n",
    "pilot_cog_eda = pilot_cog_eda.reset_index(drop=True)"
   ]
  },
  {
   "cell_type": "code",
   "execution_count": 30,
   "metadata": {},
   "outputs": [],
   "source": [
    "pilot_baseline_bvp = pd.DataFrame()\n",
    "for i in range(0, 11):\n",
    "    df = pd.read_csv(f'data/pilot/{i}/baseline/empatica_bvp.csv')\n",
    "    df['time'] = pd.to_datetime(df['time'], unit='s')\n",
    "    df.insert(0, 'subject', i)\n",
    "    df['time_elapsed'] = (df['time'] - df['time'].iloc[0]).dt.total_seconds()\n",
    "    df['time'] = df['time'].dt.time\n",
    "    pilot_baseline_bvp = pd.concat([pilot_baseline_bvp, df])\n",
    "pilot_baseline_bvp = pilot_baseline_bvp.reset_index(drop=True)"
   ]
  },
  {
   "cell_type": "code",
   "execution_count": 31,
   "metadata": {},
   "outputs": [],
   "source": [
    "pilot_cog_bvp = pd.DataFrame()\n",
    "for i in range(0, 11):\n",
    "    df = pd.read_csv(f'data/pilot/{i}/cognitive_load/empatica_bvp.csv')\n",
    "    df['time'] = pd.to_datetime(df['time'], unit='s')\n",
    "    df.insert(0, 'subject', i)\n",
    "    df['time_elapsed'] = (df['time'] - df['time'].iloc[0]).dt.total_seconds()\n",
    "    df['time'] = df['time'].dt.time\n",
    "    pilot_cog_bvp = pd.concat([pilot_cog_bvp, df])\n",
    "pilot_cog_bvp = pilot_cog_bvp.reset_index(drop=True)"
   ]
  },
  {
   "cell_type": "code",
   "execution_count": 33,
   "metadata": {},
   "outputs": [],
   "source": [
    "pilot_baseline_temp.to_csv('./cleaned_data/pilot/baseline_temp.csv')\n",
    "pilot_cog_temp.to_csv('./cleaned_data/pilot/cog_temp.csv')\n",
    "pilot_baseline_eda.to_csv('./cleaned_data/pilot/baseline_eda.csv')\n",
    "pilot_cog_eda.to_csv('./cleaned_data/pilot/cog_eda.csv')\n",
    "pilot_baseline_bvp.to_csv('./cleaned_data/pilot/baseline_bvp.csv')\n",
    "pilot_cog_bvp.to_csv('./cleaned_data/pilot/cog_bvp.csv')"
   ]
  },
  {
   "cell_type": "code",
   "execution_count": 36,
   "metadata": {},
   "outputs": [],
   "source": [
    "# pre\n",
    "gamify_baseline_temp_pre = pd.DataFrame()\n",
    "for i in range(11, 24):\n",
    "    if i != 19:\n",
    "        df = pd.read_csv(f'data/survey_gamification/{i}/pre/baseline/empatica_temp.csv')\n",
    "        df['time'] = pd.to_datetime(df['time'], unit='s')\n",
    "        df.insert(0, 'subject', i)\n",
    "        df['time_elapsed'] = (df['time'] - df['time'].iloc[0]).dt.total_seconds()\n",
    "        df['time'] = df['time'].dt.time\n",
    "        gamify_baseline_temp_pre = pd.concat([gamify_baseline_temp_pre, df])\n",
    "gamify_baseline_temp_pre = gamify_baseline_temp_pre.reset_index(drop=True)\n",
    "# post\n",
    "gamify_baseline_temp_post = pd.DataFrame()\n",
    "for i in range(11, 24):\n",
    "    if i not in [19, 20, 21]:\n",
    "        df = pd.read_csv(f'data/survey_gamification/{i}/post/baseline/empatica_temp.csv')\n",
    "        df['time'] = pd.to_datetime(df['time'], unit='s')\n",
    "        df.insert(0, 'subject', i)\n",
    "        df['time_elapsed'] = (df['time'] - df['time'].iloc[0]).dt.total_seconds()\n",
    "        df['time'] = df['time'].dt.time\n",
    "        gamify_baseline_temp_post = pd.concat([gamify_baseline_temp_post, df])\n",
    "gamify_baseline_temp_post = gamify_baseline_temp_post.reset_index(drop=True)"
   ]
  },
  {
   "cell_type": "code",
   "execution_count": 37,
   "metadata": {},
   "outputs": [],
   "source": [
    "# pre\n",
    "gamify_baseline_bvp_pre = pd.DataFrame()\n",
    "for i in range(11, 24):\n",
    "    if i != 19:\n",
    "        df = pd.read_csv(f'data/survey_gamification/{i}/pre/baseline/empatica_bvp.csv')\n",
    "        df['time'] = pd.to_datetime(df['time'], unit='s')\n",
    "        df.insert(0, 'subject', i)\n",
    "        df['time_elapsed'] = (df['time'] - df['time'].iloc[0]).dt.total_seconds()\n",
    "        df['time'] = df['time'].dt.time\n",
    "        gamify_baseline_temp_pre = pd.concat([gamify_baseline_temp_pre, df])\n",
    "gamify_baseline_temp_pre = gamify_baseline_temp_pre.reset_index(drop=True)\n",
    "# post\n",
    "gamify_baseline_bvp_post = pd.DataFrame()\n",
    "for i in range(11, 24):\n",
    "    if i not in [19, 20, 21]:\n",
    "        df = pd.read_csv(f'data/survey_gamification/{i}/post/baseline/empatica_bvp.csv')\n",
    "        df['time'] = pd.to_datetime(df['time'], unit='s')\n",
    "        df.insert(0, 'subject', i)\n",
    "        df['time_elapsed'] = (df['time'] - df['time'].iloc[0]).dt.total_seconds()\n",
    "        df['time'] = df['time'].dt.time\n",
    "        gamify_baseline_bvp_post = pd.concat([gamify_baseline_bvp_post, df])\n",
    "gamify_baseline_bvp_post = gamify_baseline_bvp_post.reset_index(drop=True)"
   ]
  },
  {
   "cell_type": "code",
   "execution_count": 38,
   "metadata": {},
   "outputs": [],
   "source": [
    "# pre\n",
    "gamify_baseline_eda_pre = pd.DataFrame()\n",
    "for i in range(11, 24):\n",
    "    if i != 19:\n",
    "        df = pd.read_csv(f'data/survey_gamification/{i}/pre/baseline/empatica_eda.csv')\n",
    "        df['time'] = pd.to_datetime(df['time'], unit='s')\n",
    "        df.insert(0, 'subject', i)\n",
    "        df['time_elapsed'] = (df['time'] - df['time'].iloc[0]).dt.total_seconds()\n",
    "        df['time'] = df['time'].dt.time\n",
    "        gamify_baseline_eda_pre = pd.concat([gamify_baseline_eda_pre, df])\n",
    "gamify_baseline_eda_pre = gamify_baseline_eda_pre.reset_index(drop=True)\n",
    "# post\n",
    "gamify_baseline_eda_post = pd.DataFrame()\n",
    "for i in range(11, 24):\n",
    "    if i not in [19, 20, 21]:\n",
    "        df = pd.read_csv(f'data/survey_gamification/{i}/post/baseline/empatica_eda.csv')\n",
    "        df['time'] = pd.to_datetime(df['time'], unit='s')\n",
    "        df.insert(0, 'subject', i)\n",
    "        df['time_elapsed'] = (df['time'] - df['time'].iloc[0]).dt.total_seconds()\n",
    "        df['time'] = df['time'].dt.time\n",
    "        gamify_baseline_eda_post = pd.concat([gamify_baseline_eda_post, df])\n",
    "gamify_baseline_eda_post = gamify_baseline_eda_post.reset_index(drop=True)"
   ]
  },
  {
   "cell_type": "code",
   "execution_count": 39,
   "metadata": {},
   "outputs": [],
   "source": [
    "gamify_baseline_temp_pre.to_csv('./cleaned_data/gamify/pre_baseline_temp.csv')\n",
    "gamify_baseline_temp_post.to_csv('./cleaned_data/gamify/post_baseline_temp.csv')\n",
    "gamify_baseline_bvp_pre.to_csv('./cleaned_data/gamify/pre_baseline_bvp.csv')\n",
    "gamify_baseline_bvp_post.to_csv('./cleaned_data/gamify/post_baseline_bvp.csv')\n",
    "gamify_baseline_eda_pre.to_csv('./cleaned_data/gamify/pre_baseline_eda.csv')\n",
    "gamify_baseline_eda_post.to_csv('./cleaned_data/gamify/post_baseline_eda.csv')"
   ]
  },
  {
   "cell_type": "code",
   "execution_count": null,
   "metadata": {},
   "outputs": [],
   "source": []
  }
 ],
 "metadata": {
  "kernelspec": {
   "display_name": "dsc80",
   "language": "python",
   "name": "python3"
  },
  "language_info": {
   "codemirror_mode": {
    "name": "ipython",
    "version": 3
   },
   "file_extension": ".py",
   "mimetype": "text/x-python",
   "name": "python",
   "nbconvert_exporter": "python",
   "pygments_lexer": "ipython3",
   "version": "3.12.6"
  }
 },
 "nbformat": 4,
 "nbformat_minor": 2
}
